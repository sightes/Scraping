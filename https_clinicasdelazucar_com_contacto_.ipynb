{
  "nbformat": 4,
  "nbformat_minor": 0,
  "metadata": {
    "colab": {
      "provenance": [],
      "authorship_tag": "ABX9TyPB9sHQHMzcEFj1mtR7WZcr",
      "include_colab_link": true
    },
    "kernelspec": {
      "name": "python3",
      "display_name": "Python 3"
    },
    "language_info": {
      "name": "python"
    }
  },
  "cells": [
    {
      "cell_type": "markdown",
      "metadata": {
        "id": "view-in-github",
        "colab_type": "text"
      },
      "source": [
        "<a href=\"https://colab.research.google.com/github/sightes/Scraping/blob/main/https_clinicasdelazucar_com_contacto_.ipynb\" target=\"_parent\"><img src=\"https://colab.research.google.com/assets/colab-badge.svg\" alt=\"Open In Colab\"/></a>"
      ]
    },
    {
      "cell_type": "markdown",
      "source": [
        "El presente codigo realiza un scrapping completo de los productos cargados en diartek.cl, tener cuidado con los precios dado que existen algunos q se encuentran en dolares sin embargo en el sitio web no existe referencia a la moneda"
      ],
      "metadata": {
        "id": "xWnWUkZ_9j9r"
      }
    },
    {
      "cell_type": "code",
      "source": [
        "%%capture\n",
        "!pip install selenium\n",
        "!pip install fake_useragent"
      ],
      "metadata": {
        "id": "2HaglCL5oBHB"
      },
      "execution_count": 1,
      "outputs": []
    },
    {
      "cell_type": "code",
      "execution_count": 2,
      "metadata": {
        "id": "HJY5u82vn5x5"
      },
      "outputs": [],
      "source": [
        "import pandas as pd\n",
        "import json\n",
        "from selenium.webdriver.common.by import By\n",
        "from selenium import webdriver\n",
        "from fake_useragent import UserAgent\n",
        "from bs4 import BeautifulSoup\n",
        "import numpy as np\n",
        "\n",
        "\n",
        "def try_or(func, default=None, expected_exc=(Exception,)):\n",
        "    try:\n",
        "        return func()\n",
        "    except expected_exc:\n",
        "        return default\n",
        "\n",
        "def create_driver():\n",
        "    options = webdriver.ChromeOptions()\n",
        "    options.add_argument('--headless')\n",
        "    #options.add_argument(\"--incognito\")\n",
        "    options.add_argument(\"--nogpu\")\n",
        "    options.add_argument(\"--disable-gpu\")\n",
        "    options.add_argument(\"--window-size=1280,1280\")\n",
        "    options.add_argument(\"--no-sandbox\")\n",
        "    options.add_argument(\"--user-data-dir=chrome-data\")\n",
        "    options.add_argument(\"--enable-javascript\")\n",
        "    options.add_experimental_option(\"excludeSwitches\", [\"enable-automation\"])\n",
        "    options.add_experimental_option('useAutomationExtension', False)\n",
        "    options.add_argument('--disable-blink-features=AutomationControlled')\n",
        "    options.add_argument(\"user-agent=Mozilla/5.0 (Windows NT 10.0; Win64; x64) AppleWebKit/537.36 (KHTML, like Gecko) Chrome/58.0.3029.110 Safari/537.36\")\n",
        "    ua = UserAgent()\n",
        "    userAgent = ua.random\n",
        "    driver = webdriver.Chrome(options=options)\n",
        "    driver.execute_cdp_cmd('Network.setUserAgentOverride',{\"userAgent\": userAgent,'method': 'GET','Host':'www.solili.mx'})\n",
        "    driver.set_network_conditions(offline=False,\n",
        "                                  latency=5,\n",
        "                                  download_throughput=500 * 1024,\n",
        "                                  upload_throughput=500 * 1024)\n",
        "    return(driver)\n",
        "def get_atributes(a):\n",
        "  return([float(a.get_attribute('data-price').replace('.','').replace(',','.').replace('$','')),\n",
        "  float(a.get_attribute('data-price-default').replace('.','').replace(',','.').replace('$','')),\n",
        "  a.get_attribute('data-brand'),\n",
        "  a.get_attribute('data-name'),\n",
        "  'https://diartek.cl/'+a.get_attribute('data-permalink'),\n",
        "  a.get_attribute('data-image'),\n",
        "  a.get_attribute('data-id')])\n"
      ]
    },
    {
      "cell_type": "code",
      "source": [
        "driver=create_driver()\n",
        "driver.get('https://clinicasdelazucar.com/contacto/')\n",
        "ubicaciones=driver.find_elements(By.XPATH,\"//*[contains(@class,'col-lg-4 col-md-6 col-xs-12')]\")"
      ],
      "metadata": {
        "id": "pRwP-beCsYd4"
      },
      "execution_count": 36,
      "outputs": []
    },
    {
      "cell_type": "code",
      "source": [
        "def get_redirected(url):\n",
        "  import requests\n",
        "  response = requests.get(url, headers={'User-Agent': 'Google Chrome'})\n",
        "  row = {}\n",
        "  if response.history:\n",
        "      for step in response.history:\n",
        "          row['original_url'] = step.url\n",
        "          row['original_status'] = step.status_code\n",
        "      row['destination_url'] = response.url\n",
        "      row['destination_status'] = response.status_code\n",
        "  else:\n",
        "      row['original_url'] = response.url\n",
        "      row['original_status'] = response.status_code\n",
        "      row['destination_url'] = ''\n",
        "      row['destination_status'] = ''\n",
        "  return(row)"
      ],
      "metadata": {
        "id": "vqxIT8Axvg8c"
      },
      "execution_count": 32,
      "outputs": []
    },
    {
      "cell_type": "markdown",
      "source": [],
      "metadata": {
        "id": "2IUnaL2Ytkef"
      }
    },
    {
      "cell_type": "code",
      "source": [
        "data=[]\n",
        "for i in range(0,len(ubicaciones)):\n",
        "  name=ubicaciones[i].find_elements(By.XPATH,\".//*[contains(@class,'card-header  text-lg-center')]/b\")[0].text\n",
        "  direccion=ubicaciones[i].find_elements(By.XPATH,\".//*[contains(@class,'card-body')]/p\")[0].text\n",
        "  telefono=ubicaciones[i].find_elements(By.XPATH,\".//*[contains(@class,'card-body')]/a\")[0].text\n",
        "  url=ubicaciones[i].find_elements(By.XPATH,\".//*[contains(@align,'center')]/a\")[0].get_attribute('href')\n",
        "  latitude=get_redirected(url)['destination_url'].split('@')[1].split(\",\")[0]\n",
        "  longitude=get_redirected(url)['destination_url'].split('@')[1].split(\",\")[1]\n",
        "  data=data+[[name,direccion,telefono,url,latitude,longitude]]\n"
      ],
      "metadata": {
        "id": "FHL0ivzis4r6"
      },
      "execution_count": 37,
      "outputs": []
    },
    {
      "cell_type": "code",
      "source": [
        "pd.DataFrame(data).to_csv('data.csv')"
      ],
      "metadata": {
        "id": "sMJ-7txzvjBv"
      },
      "execution_count": 40,
      "outputs": []
    }
  ]
}