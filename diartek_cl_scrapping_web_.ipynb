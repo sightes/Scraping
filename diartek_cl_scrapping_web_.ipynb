{
  "nbformat": 4,
  "nbformat_minor": 0,
  "metadata": {
    "colab": {
      "provenance": [],
      "authorship_tag": "ABX9TyMj1qdGoxcnCkWPtvKbrfRA",
      "include_colab_link": true
    },
    "kernelspec": {
      "name": "python3",
      "display_name": "Python 3"
    },
    "language_info": {
      "name": "python"
    }
  },
  "cells": [
    {
      "cell_type": "markdown",
      "metadata": {
        "id": "view-in-github",
        "colab_type": "text"
      },
      "source": [
        "<a href=\"https://colab.research.google.com/github/sightes/Scraping/blob/main/diartek_cl_scrapping_web_.ipynb\" target=\"_parent\"><img src=\"https://colab.research.google.com/assets/colab-badge.svg\" alt=\"Open In Colab\"/></a>"
      ]
    },
    {
      "cell_type": "markdown",
      "source": [
        "El presente codigo realiza un scrapping completo de los productos cargados en diartek.cl, tener cuidado con los precios dado que existen algunos q se encuentran en dolares sin embargo en el sitio web no existe referencia a la moneda"
      ],
      "metadata": {
        "id": "xWnWUkZ_9j9r"
      }
    },
    {
      "cell_type": "code",
      "source": [
        "%%capture\n",
        "!pip install selenium\n",
        "!pip install fake_useragent"
      ],
      "metadata": {
        "id": "2HaglCL5oBHB"
      },
      "execution_count": 1,
      "outputs": []
    },
    {
      "cell_type": "code",
      "execution_count": 16,
      "metadata": {
        "id": "HJY5u82vn5x5"
      },
      "outputs": [],
      "source": [
        "import pandas as pd\n",
        "import json\n",
        "from selenium.webdriver.common.by import By\n",
        "from selenium import webdriver\n",
        "from fake_useragent import UserAgent\n",
        "from bs4 import BeautifulSoup\n",
        "import numpy as np\n",
        "\n",
        "\n",
        "def try_or(func, default=None, expected_exc=(Exception,)):\n",
        "    try:\n",
        "        return func()\n",
        "    except expected_exc:\n",
        "        return default\n",
        "\n",
        "def create_driver():\n",
        "    options = webdriver.ChromeOptions()\n",
        "    options.add_argument('--headless')\n",
        "    #options.add_argument(\"--incognito\")\n",
        "    options.add_argument(\"--nogpu\")\n",
        "    options.add_argument(\"--disable-gpu\")\n",
        "    options.add_argument(\"--window-size=1280,1280\")\n",
        "    options.add_argument(\"--no-sandbox\")\n",
        "    options.add_argument(\"--user-data-dir=chrome-data\")\n",
        "    options.add_argument(\"--enable-javascript\")\n",
        "    options.add_experimental_option(\"excludeSwitches\", [\"enable-automation\"])\n",
        "    options.add_experimental_option('useAutomationExtension', False)\n",
        "    options.add_argument('--disable-blink-features=AutomationControlled')\n",
        "    options.add_argument(\"user-agent=Mozilla/5.0 (Windows NT 10.0; Win64; x64) AppleWebKit/537.36 (KHTML, like Gecko) Chrome/58.0.3029.110 Safari/537.36\")\n",
        "    ua = UserAgent()\n",
        "    userAgent = ua.random\n",
        "    driver = webdriver.Chrome(options=options)\n",
        "    driver.execute_cdp_cmd('Network.setUserAgentOverride',{\"userAgent\": userAgent,'method': 'GET','Host':'www.solili.mx'})\n",
        "    driver.set_network_conditions(offline=False,\n",
        "                                  latency=5,\n",
        "                                  download_throughput=500 * 1024,\n",
        "                                  upload_throughput=500 * 1024)\n",
        "    return(driver)\n",
        "def get_atributes(a):\n",
        "  return([float(a.get_attribute('data-price').replace('.','').replace(',','.').replace('$','')),\n",
        "  float(a.get_attribute('data-price-default').replace('.','').replace(',','.').replace('$','')),\n",
        "  a.get_attribute('data-brand'),\n",
        "  a.get_attribute('data-name'),\n",
        "  'https://diartek.cl/'+a.get_attribute('data-permalink'),\n",
        "  a.get_attribute('data-image'),\n",
        "  a.get_attribute('data-id')])\n"
      ]
    },
    {
      "cell_type": "code",
      "source": [
        "driver=create_driver()\n",
        "driver.get('https://diartek.cl/')\n",
        "menus=driver.find_elements(By.XPATH,\"//*[contains(@class,'accordion-button collapsed sidebar-accordion__button sidebar-accordion__button--inner')]\")\n",
        "links=[i.get_attribute('href') for i in menus]\n",
        "driver.close()\n",
        "selected_links=[]\n",
        "for i in links:\n",
        "  if len(i.split('/'))<5:\n",
        "    selected_links=selected_links+[i]"
      ],
      "metadata": {
        "id": "FZQJPrUaoaNW"
      },
      "execution_count": 3,
      "outputs": []
    },
    {
      "cell_type": "code",
      "source": [
        "productos=[]\n",
        "for c_link in selected_links:\n",
        "  driver=create_driver()\n",
        "  driver.get(c_link)\n",
        "  max_page=try_or(lambda: int(driver.find_elements(By.XPATH,\"//*[contains(text(),'Último')]\")[0].get_attribute('href').split('=')[1]), default=0)\n",
        "  c_productos=driver.find_elements(By.XPATH,\"//div[contains(@class,'product-block__actions')]/form\")\n",
        "  productos=productos+[get_atributes(i) for i in c_productos]\n",
        "  if max_page>1:\n",
        "    for i_page in range(2,max_page+1):\n",
        "      c_link=c_link+'?page='+str(i_page)\n",
        "      driver.get(c_link)\n",
        "      c_productos=driver.find_elements(By.XPATH,\"//div[contains(@class,'product-block__actions')]/form\")\n",
        "      productos=productos+[get_atributes(i) for i in c_productos]\n",
        "  driver.close()"
      ],
      "metadata": {
        "id": "-0_4VGCGsqjy"
      },
      "execution_count": 17,
      "outputs": []
    },
    {
      "cell_type": "code",
      "source": [
        "pd.DataFrame(productos).to_csv('data.csv')"
      ],
      "metadata": {
        "id": "ceRjPTikuTwJ"
      },
      "execution_count": 19,
      "outputs": []
    }
  ]
}