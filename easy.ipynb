{
 "cells": [
  {
   "cell_type": "code",
   "execution_count": null,
   "metadata": {},
   "outputs": [],
   "source": [
    "#github : https://github.com/sightes/Scraping\n",
    "\n",
    "!wget 'https://raw.githubusercontent.com/sightes/Scraping/main/easy.py'"
   ]
  },
  {
   "cell_type": "code",
   "execution_count": 2,
   "metadata": {},
   "outputs": [
    {
     "name": "stdout",
     "output_type": "stream",
     "text": [
      "pagina:1\n",
      "pagina:2\n"
     ]
    },
    {
     "data": {
      "text/html": [
       "<div>\n",
       "<style scoped>\n",
       "    .dataframe tbody tr th:only-of-type {\n",
       "        vertical-align: middle;\n",
       "    }\n",
       "\n",
       "    .dataframe tbody tr th {\n",
       "        vertical-align: top;\n",
       "    }\n",
       "\n",
       "    .dataframe thead th {\n",
       "        text-align: right;\n",
       "    }\n",
       "</style>\n",
       "<table border=\"1\" class=\"dataframe\">\n",
       "  <thead>\n",
       "    <tr style=\"text-align: right;\">\n",
       "      <th></th>\n",
       "      <th>productId</th>\n",
       "      <th>productName</th>\n",
       "      <th>brand</th>\n",
       "      <th>categoryId</th>\n",
       "      <th>productReference</th>\n",
       "      <th>precio</th>\n",
       "      <th>imagen</th>\n",
       "    </tr>\n",
       "  </thead>\n",
       "  <tbody>\n",
       "    <tr>\n",
       "      <th>0</th>\n",
       "      <td>42386</td>\n",
       "      <td>Generador a gasolina eléctrico 5500W 25 lt TC-...</td>\n",
       "      <td>Einhell</td>\n",
       "      <td>230201</td>\n",
       "      <td>1244840</td>\n",
       "      <td>682490</td>\n",
       "      <td>https://easycl.vtexassets.com/arquivos/ids/260...</td>\n",
       "    </tr>\n",
       "    <tr>\n",
       "      <th>1</th>\n",
       "      <td>59256</td>\n",
       "      <td>Generador a gasolina manual 3100W 15 lt TC-PG ...</td>\n",
       "      <td>Einhell</td>\n",
       "      <td>230201</td>\n",
       "      <td>1285929</td>\n",
       "      <td>399990</td>\n",
       "      <td>https://easycl.vtexassets.com/arquivos/ids/254...</td>\n",
       "    </tr>\n",
       "    <tr>\n",
       "      <th>2</th>\n",
       "      <td>90379</td>\n",
       "      <td>Generador a Gasolina manual 2400W 15 litros TC...</td>\n",
       "      <td>Einhell</td>\n",
       "      <td>230201</td>\n",
       "      <td>1340812</td>\n",
       "      <td>364990</td>\n",
       "      <td>https://easycl.vtexassets.com/arquivos/ids/490...</td>\n",
       "    </tr>\n",
       "  </tbody>\n",
       "</table>\n",
       "</div>"
      ],
      "text/plain": [
       "  productId                                        productName    brand  \\\n",
       "0     42386  Generador a gasolina eléctrico 5500W 25 lt TC-...  Einhell   \n",
       "1     59256  Generador a gasolina manual 3100W 15 lt TC-PG ...  Einhell   \n",
       "2     90379  Generador a Gasolina manual 2400W 15 litros TC...  Einhell   \n",
       "\n",
       "  categoryId productReference  precio  \\\n",
       "0     230201          1244840  682490   \n",
       "1     230201          1285929  399990   \n",
       "2     230201          1340812  364990   \n",
       "\n",
       "                                              imagen  \n",
       "0  https://easycl.vtexassets.com/arquivos/ids/260...  \n",
       "1  https://easycl.vtexassets.com/arquivos/ids/254...  \n",
       "2  https://easycl.vtexassets.com/arquivos/ids/490...  "
      ]
     },
     "execution_count": 2,
     "metadata": {},
     "output_type": "execute_result"
    }
   ],
   "source": [
    "from easy import easy\n",
    "producto = 'generador einhell' #producto\n",
    "maxpage  = 2 #criterio parada paginas\n",
    "easy(producto,maxpage)"
   ]
  }
 ],
 "metadata": {
  "interpreter": {
   "hash": "e67a66b9b41fade1add721cd657aede865c2b08295add04db151697086370e8a"
  },
  "kernelspec": {
   "display_name": "Python 3.9.9 64-bit",
   "language": "python",
   "name": "python3"
  },
  "language_info": {
   "codemirror_mode": {
    "name": "ipython",
    "version": 3
   },
   "file_extension": ".py",
   "mimetype": "text/x-python",
   "name": "python",
   "nbconvert_exporter": "python",
   "pygments_lexer": "ipython3",
   "version": "3.9.9"
  },
  "orig_nbformat": 4
 },
 "nbformat": 4,
 "nbformat_minor": 2
}
