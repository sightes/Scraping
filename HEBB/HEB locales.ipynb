{
 "cells": [
  {
   "cell_type": "code",
   "execution_count": 214,
   "metadata": {},
   "outputs": [],
   "source": [
    "import pandas as pd \n",
    "import numpy as np\n",
    "from datetime import date, datetime, timedelta\n",
    "import lxml.html\n",
    "import json\n",
    "import requests \n",
    "from requests.packages.urllib3.exceptions import InsecureRequestWarning\n",
    "import json\n",
    "requests.packages.urllib3.disable_warnings(InsecureRequestWarning)\n",
    "url='http://heblocalescomerciales.com/s/todos/todos///?id_location=&id_zone='\n",
    "session=requests.Session()\n",
    "session.verify=False \n",
    "r = session.get( url.replace(' ',''), headers={\n",
    "'Upgrade-Insecure-Requests': '1',\n",
    "'Connection': 'keep-alive',\n",
    "'Content-Type': 'application/x-www-form-urlencoded', \\\n",
    "'User-Agent': 'Mozilla/5.0 (Windows NT 10.0; Win64; x64) AppleWebKit/537.36 (KHTML, like Gecko) Chrome/101.0.4951.67 Safari/537.36'} )\n",
    "session.close()\n",
    "root = lxml.html.fromstring(r.text)\n",
    "\n",
    "def extrae_spot(url):\n",
    "    session=requests.Session()\n",
    "    session.verify=False \n",
    "    r = session.get( url.replace(' ',''), headers={\n",
    "    'Upgrade-Insecure-Requests': '1',\n",
    "    'Connection': 'keep-alive',\n",
    "    'Content-Type': 'application/x-www-form-urlencoded', \\\n",
    "    'User-Agent': 'Mozilla/5.0 (Windows NT 10.0; Win64; x64) AppleWebKit/537.36 (KHTML, like Gecko) Chrome/101.0.4951.67 Safari/537.36'} )\n",
    "    session.close()\n",
    "    root = lxml.html.fromstring(r.text)\n",
    "    ul_item=root.xpath(\"////*/ul[@class = 'list-li row']/li/strong/text()\")\n",
    "    ul_itemvalue=root.xpath(\"////*/ul[@class = 'list-li row']/li/text()\")\n",
    "    ul_df=pd.DataFrame([ul_itemvalue],columns=ul_item)\n",
    "    datos_col=['Pais','Estado','Ciudad','Zona','Área Construida','Tipo de inmueble','Tipo de negocio']\n",
    "    datos=[]\n",
    "    if np.sum(np.isin(ul_item,['País:'])*1)>0: datos=datos+[ul_df['País:'].values.tolist()[0]]\n",
    "    else: datos=datos+['']\n",
    "    if np.sum(np.isin(ul_item,['Estado:'])*1)>0: datos=datos+[ul_df['Estado:'].values.tolist()[0]]\n",
    "    else: datos=datos+['']\n",
    "    if np.sum(np.isin(ul_item,['Ciudad:'])*1)>0: datos=datos+[ul_df['Ciudad:'].values.tolist()[0]]\n",
    "    else: datos=datos+['']\n",
    "    if np.sum(np.isin(ul_item,['Zona:'])*1)>0: datos=datos+[ul_df['Zona:'].values.tolist()[0]]\n",
    "    else: datos=datos+['']\n",
    "    if np.sum(np.isin(ul_item,['Área Construida:'])*1)>0: datos=datos+[ul_df['Área Construida:'].values.tolist()[0]]\n",
    "    else: datos=datos+['']\n",
    "    if np.sum(np.isin(ul_item,['Tipo de inmueble:'])*1)>0: datos=datos+[ul_df['Tipo de inmueble:'].values.tolist()[0]]\n",
    "    else: datos=datos+['']\n",
    "    if np.sum(np.isin(ul_item,['Tipo de negocio:'])*1)>0: datos=datos+[ul_df['Tipo de negocio:'].values.tolist()[0]]\n",
    "    else: datos=datos+['']\n",
    "    valor=root.xpath(\"////*/span[@class = 'pr1']/text()\")[0].replace('$','').replace(',','')\n",
    "    periodo=root.xpath(\"////*/span[@class = 'pr1']/span/text()\")[0].replace(' ','')\n",
    "    moneda=root.xpath(\"////*/div[@class = 'blq_precio']/text()\")[1].replace(' ','').replace(\"\\n\",'')\n",
    "    imagen=root.xpath(\"////*/div[@class = 'fotorama']/a/@href\")\n",
    "    if len(imagen)>0:\n",
    "        imagen=imagen[0]\n",
    "    else:\n",
    "        imagen=''    \n",
    "    caracteristicas=str(root.xpath(\"////*/ul[@class = 'row']/li/text()\"))\n",
    "    columnas=datos_col+['valor']+['periodo']+['moneda']+['imagen']+['caracteristicas']\n",
    "    return pd.DataFrame([datos+[valor]+[periodo]+[moneda]+[imagen]+[caracteristicas]],columns=columnas)\n",
    "spots=[]\n",
    "paginas=root.xpath(\"////*/a[@class = 'page-link']/@href\")\n",
    "p_actual=paginas[0]\n",
    "p_siguiente=paginas[len(paginas)-1]\n",
    "parada=0\n",
    "curr_spot=[]\n",
    "while p_actual!=p_siguiente and parada==0 :\n",
    "    session=requests.Session()\n",
    "    session.verify=False \n",
    "    r = session.get( p_siguiente.replace(' ',''), headers={\n",
    "    'Upgrade-Insecure-Requests': '1',\n",
    "    'Connection': 'keep-alive',\n",
    "    'Content-Type': 'application/x-www-form-urlencoded', \\\n",
    "    'User-Agent': 'Mozilla/5.0 (Windows NT 10.0; Win64; x64) AppleWebKit/537.36 \\\n",
    "         (KHTML, like Gecko) Chrome/101.0.4951.67 Safari/537.36'} )\n",
    "    session.close()\n",
    "    root = lxml.html.fromstring(r.text)\n",
    "    lista=root.xpath(\"////*/div[@class = 'item']\")\n",
    "    curr_spot_antes=curr_spot\n",
    "    a=lista[0]\n",
    "    curr_spot=a.xpath(\"////*/a[@class = 'fill']/@href\")\n",
    "    spots=spots+curr_spot\n",
    "    if curr_spot==curr_spot_antes:\n",
    "        parada=1\n",
    "    paginas=root.xpath(\"////*/a[@class = 'page-link']/@href\")\n",
    "    p_actual=paginas[0]\n",
    "    p_siguiente=paginas[len(paginas)-1]"
   ]
  },
  {
   "cell_type": "code",
   "execution_count": 217,
   "metadata": {},
   "outputs": [
    {
     "name": "stdout",
     "output_type": "stream",
     "text": [
      "110\n"
     ]
    }
   ],
   "source": [
    "from IPython.display import clear_output\n",
    "DATA=extrae_spot(spots[0])\n",
    "cols=DATA.columns.tolist()\n",
    "n=1\n",
    "for spot in spots:\n",
    "    print(n)\n",
    "    n=n+1\n",
    "    DATA=pd.concat([DATA,extrae_spot(spot)], axis=0,ignore_index=True)\n",
    "    clear_output(wait=True)"
   ]
  },
  {
   "cell_type": "code",
   "execution_count": 220,
   "metadata": {},
   "outputs": [],
   "source": [
    "DATA.iloc[1:len(DATA)-1].to_csv('heb.csv',sep=',')"
   ]
  },
  {
   "cell_type": "code",
   "execution_count": 222,
   "metadata": {},
   "outputs": [],
   "source": [
    "pd.DataFrame(spots).to_csv('heb_links.csv')"
   ]
  }
 ],
 "metadata": {
  "kernelspec": {
   "display_name": "Python 3.10.5 64-bit",
   "language": "python",
   "name": "python3"
  },
  "language_info": {
   "codemirror_mode": {
    "name": "ipython",
    "version": 3
   },
   "file_extension": ".py",
   "mimetype": "text/x-python",
   "name": "python",
   "nbconvert_exporter": "python",
   "pygments_lexer": "ipython3",
   "version": "3.10.5"
  },
  "orig_nbformat": 4,
  "vscode": {
   "interpreter": {
    "hash": "aee8b7b246df8f9039afb4144a1f6fd8d2ca17a180786b69acc140d282b71a49"
   }
  }
 },
 "nbformat": 4,
 "nbformat_minor": 2
}
