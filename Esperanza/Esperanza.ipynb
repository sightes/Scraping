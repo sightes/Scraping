{
 "cells": [
  {
   "cell_type": "code",
   "execution_count": 6,
   "metadata": {},
   "outputs": [],
   "source": [
    "import pandas as pd \n",
    "import numpy as np\n",
    "from datetime import date, datetime, timedelta\n",
    "import lxml.html\n",
    "import json\n",
    "import requests \n",
    "from requests.packages.urllib3.exceptions import InsecureRequestWarning\n",
    "import json\n",
    "requests.packages.urllib3.disable_warnings(InsecureRequestWarning)\n",
    "session=requests.Session()\n",
    "session.verify=False\n",
    "r = session.get('https://www.esperanza.mx/'.replace(' ',''), headers={\n",
    "'Upgrade-Insecure-Requests': '1',\n",
    "'Connection': 'keep-alive',\n",
    "'Content-Type': 'application/x-www-form-urlencoded', \\\n",
    "'User-Agent': 'Mozilla/5.0 (Windows NT 10.0; Win64; x64) AppleWebKit/537.36 (KHTML, like Gecko) Chrome/101.0.4951.67 Safari/537.36'} )\n",
    "session.close()\n",
    "\n"
   ]
  },
  {
   "cell_type": "code",
   "execution_count": 9,
   "metadata": {},
   "outputs": [],
   "source": [
    "root = lxml.html.fromstring(r.text)"
   ]
  },
  {
   "cell_type": "code",
   "execution_count": 69,
   "metadata": {},
   "outputs": [],
   "source": [
    "from scrapy import Selector\n",
    "r1=root.xpath(\"//script[contains(.,'var locationList = [];')]\")[0].text"
   ]
  },
  {
   "cell_type": "code",
   "execution_count": 72,
   "metadata": {},
   "outputs": [],
   "source": [
    "import re\n",
    "values = re.findall(r'var.*?=\\s*(.*?);', r1, re.DOTALL | re.MULTILINE)"
   ]
  },
  {
   "cell_type": "code",
   "execution_count": 273,
   "metadata": {},
   "outputs": [],
   "source": [
    "data=[values[i].replace(' ','').replace('\\r\\n','').replace('\"',\"'\").replace('{','').replace('}','').replace('ranch','').replace('&#193','') for i in range(0,len(values))]\n",
    "selected= [i for i in data if i.startswith('BId')]\n",
    "n_selected= [i for i in range(0,len(data)) if data[i].startswith('BId')]\n",
    "State= [i for i in data if i.startswith('BStateId')]\n",
    "n_State= [i for i in range(0,len(data)) if data[i].startswith('BStateId')]\n",
    "City= [i for i in data if i.startswith('BCityId')]\n",
    "n_City= [i for i in range(0,len(data)) if data[i].startswith('BCityId')]\n",
    "Estados=[st.replace(\"'\",'').split(',B')[1].split(':')[1] for st in State]\n",
    "Ciudades=[st.replace(\"'\",'').split(',B')[1].split(':')[1] for st in City]\n",
    "from cmath import nan\n",
    "Tabla=[]\n",
    "for a in selected:\n",
    "    variables=a.replace(\"'\",'').split(',B')\n",
    "    id='NaN'\n",
    "    Lat='NaN'\n",
    "    Lon='NaN'\n",
    "    Name='NaN'\n",
    "    Adress='NaN'\n",
    "    Phone='NaN'\n",
    "    for i in variables:\n",
    "        if i.split(':')[0]=='BId':\n",
    "            id=i.split(':')[1]\n",
    "        elif i.split(':')[0]=='Latitude':\n",
    "            Lat=i.split(':')[1]\n",
    "        elif i.split(':')[0]=='Longitude':\n",
    "            Lon=i.split(':')[1]\n",
    "        elif i.split(':')[0]=='Name':\n",
    "            Name=i.split(':')[1]\n",
    "        elif i.split(':')[0]=='Address':\n",
    "            Address=i.split(':')[1]\n",
    "        elif i.split(':')[0]=='Phone':\n",
    "            Phone=i.split(':')[1]\n",
    "    Tabla=Tabla+[[id,Lat,Lon,Name,Address,Phone]]      \n",
    "Tabla=pd.DataFrame(Tabla,columns=['id','Lat','Lon','Name','Adress','Phone'])\n",
    "nsel=[];ciu=[];est=[]\n",
    "for j in range(0,len(n_selected)):\n",
    "    nsel=nsel+[n_selected[j]]\n",
    "    ncit=[ik<n_selected[j] for ik in set(n_City)]\n",
    "    nest=[ik<n_selected[j] for ik in set(n_State)]\n",
    "    ciu=ciu+[Ciudades[np.where(ncit)[0][-1]]]\n",
    "    est=est+[Estados[np.where(nest)[0][-1]]]\n",
    "Tabla['nsel']=nsel\n",
    "Tabla['estado']=est\n",
    "Tabla['ciudad']=ciu"
   ]
  },
  {
   "cell_type": "code",
   "execution_count": 274,
   "metadata": {},
   "outputs": [
    {
     "data": {
      "text/html": [
       "<div>\n",
       "<style scoped>\n",
       "    .dataframe tbody tr th:only-of-type {\n",
       "        vertical-align: middle;\n",
       "    }\n",
       "\n",
       "    .dataframe tbody tr th {\n",
       "        vertical-align: top;\n",
       "    }\n",
       "\n",
       "    .dataframe thead th {\n",
       "        text-align: right;\n",
       "    }\n",
       "</style>\n",
       "<table border=\"1\" class=\"dataframe\">\n",
       "  <thead>\n",
       "    <tr style=\"text-align: right;\">\n",
       "      <th></th>\n",
       "      <th>id</th>\n",
       "      <th>Lat</th>\n",
       "      <th>Lon</th>\n",
       "      <th>Name</th>\n",
       "      <th>Adress</th>\n",
       "      <th>Phone</th>\n",
       "      <th>nsel</th>\n",
       "      <th>estado</th>\n",
       "      <th>ciudad</th>\n",
       "    </tr>\n",
       "  </thead>\n",
       "  <tbody>\n",
       "    <tr>\n",
       "      <th>0</th>\n",
       "      <td>158</td>\n",
       "      <td>19.341136</td>\n",
       "      <td>-99.209296</td>\n",
       "      <td>Av.Toluca</td>\n",
       "      <td>Av.Toluca207-B,OlivardelosPadres,01780,</td>\n",
       "      <td>NaN</td>\n",
       "      <td>3</td>\n",
       "      <td>CDMX</td>\n",
       "      <td>Azcapotzalco</td>\n",
       "    </tr>\n",
       "    <tr>\n",
       "      <th>1</th>\n",
       "      <td>159</td>\n",
       "      <td>19.389665</td>\n",
       "      <td>-99.210673</td>\n",
       "      <td>SantaFe</td>\n",
       "      <td>CaminoaSantaFe440-B,ElPara&amp;#237</td>\n",
       "      <td>NaN</td>\n",
       "      <td>4</td>\n",
       "      <td>CDMX</td>\n",
       "      <td>Azcapotzalco</td>\n",
       "    </tr>\n",
       "    <tr>\n",
       "      <th>2</th>\n",
       "      <td>160</td>\n",
       "      <td>19.375537</td>\n",
       "      <td>-99.195824</td>\n",
       "      <td>AlfonsoXIII</td>\n",
       "      <td>FranzHals51,AlfonsoXIII,01460,</td>\n",
       "      <td>NaN</td>\n",
       "      <td>5</td>\n",
       "      <td>CDMX</td>\n",
       "      <td>Azcapotzalco</td>\n",
       "    </tr>\n",
       "    <tr>\n",
       "      <th>3</th>\n",
       "      <td>161</td>\n",
       "      <td>19.366084</td>\n",
       "      <td>-99.198853</td>\n",
       "      <td>LomasdePlateros</td>\n",
       "      <td>Tacuba1,MercedG&amp;#243</td>\n",
       "      <td>NaN</td>\n",
       "      <td>6</td>\n",
       "      <td>CDMX</td>\n",
       "      <td>Azcapotzalco</td>\n",
       "    </tr>\n",
       "    <tr>\n",
       "      <th>4</th>\n",
       "      <td>162</td>\n",
       "      <td>19.370675</td>\n",
       "      <td>-99.216023</td>\n",
       "      <td>OlivardelConde</td>\n",
       "      <td>SantaLuc&amp;#237</td>\n",
       "      <td>NaN</td>\n",
       "      <td>7</td>\n",
       "      <td>CDMX</td>\n",
       "      <td>Azcapotzalco</td>\n",
       "    </tr>\n",
       "    <tr>\n",
       "      <th>...</th>\n",
       "      <td>...</td>\n",
       "      <td>...</td>\n",
       "      <td>...</td>\n",
       "      <td>...</td>\n",
       "      <td>...</td>\n",
       "      <td>...</td>\n",
       "      <td>...</td>\n",
       "      <td>...</td>\n",
       "      <td>...</td>\n",
       "    </tr>\n",
       "    <tr>\n",
       "      <th>120</th>\n",
       "      <td>229</td>\n",
       "      <td>20.649028</td>\n",
       "      <td>-103.319498</td>\n",
       "      <td>R&amp;#237</td>\n",
       "      <td>16deSeptiembre1126,Mexicaltzingo,44180,Guadala...</td>\n",
       "      <td>NaN</td>\n",
       "      <td>160</td>\n",
       "      <td>Yucatán</td>\n",
       "      <td>Merida</td>\n",
       "    </tr>\n",
       "    <tr>\n",
       "      <th>121</th>\n",
       "      <td>360</td>\n",
       "      <td>21.126889</td>\n",
       "      <td>-86.877639</td>\n",
       "      <td>ARCOKABAH</td>\n",
       "      <td>LaRiojas/n,Canc&amp;#250</td>\n",
       "      <td>NaN</td>\n",
       "      <td>163</td>\n",
       "      <td>Yucatán</td>\n",
       "      <td>Merida</td>\n",
       "    </tr>\n",
       "    <tr>\n",
       "      <th>122</th>\n",
       "      <td>362</td>\n",
       "      <td>21.134059</td>\n",
       "      <td>-86.854516</td>\n",
       "      <td>AVLALUNA</td>\n",
       "      <td>Tepich506,SinNombre,77533,Canc&amp;#250</td>\n",
       "      <td>NaN</td>\n",
       "      <td>164</td>\n",
       "      <td>Yucatán</td>\n",
       "      <td>Merida</td>\n",
       "    </tr>\n",
       "    <tr>\n",
       "      <th>123</th>\n",
       "      <td>364</td>\n",
       "      <td>21.179892</td>\n",
       "      <td>-86.863155</td>\n",
       "      <td>CAIMANES(PROXIMAMENTE)</td>\n",
       "      <td>Av.Kabah226,SinNombre,77516,Canc&amp;#250</td>\n",
       "      <td>NaN</td>\n",
       "      <td>165</td>\n",
       "      <td>Yucatán</td>\n",
       "      <td>Merida</td>\n",
       "    </tr>\n",
       "    <tr>\n",
       "      <th>124</th>\n",
       "      <td>380</td>\n",
       "      <td>20.9954375</td>\n",
       "      <td>-89.6009375</td>\n",
       "      <td>Merida(PROXIMAMENTE)</td>\n",
       "      <td>FelipeCarrilloPuerto266,Merida,97208,Yucatan</td>\n",
       "      <td></td>\n",
       "      <td>168</td>\n",
       "      <td>Yucatán</td>\n",
       "      <td>Merida</td>\n",
       "    </tr>\n",
       "  </tbody>\n",
       "</table>\n",
       "<p>125 rows × 9 columns</p>\n",
       "</div>"
      ],
      "text/plain": [
       "      id         Lat          Lon                    Name  \\\n",
       "0    158   19.341136   -99.209296               Av.Toluca   \n",
       "1    159   19.389665   -99.210673                 SantaFe   \n",
       "2    160   19.375537   -99.195824             AlfonsoXIII   \n",
       "3    161   19.366084   -99.198853         LomasdePlateros   \n",
       "4    162   19.370675   -99.216023          OlivardelConde   \n",
       "..   ...         ...          ...                     ...   \n",
       "120  229   20.649028  -103.319498                  R&#237   \n",
       "121  360   21.126889   -86.877639               ARCOKABAH   \n",
       "122  362   21.134059   -86.854516                AVLALUNA   \n",
       "123  364   21.179892   -86.863155  CAIMANES(PROXIMAMENTE)   \n",
       "124  380  20.9954375  -89.6009375    Merida(PROXIMAMENTE)   \n",
       "\n",
       "                                                Adress Phone  nsel   estado  \\\n",
       "0              Av.Toluca207-B,OlivardelosPadres,01780,   NaN     3     CDMX   \n",
       "1                      CaminoaSantaFe440-B,ElPara&#237   NaN     4     CDMX   \n",
       "2                       FranzHals51,AlfonsoXIII,01460,   NaN     5     CDMX   \n",
       "3                                 Tacuba1,MercedG&#243   NaN     6     CDMX   \n",
       "4                                        SantaLuc&#237   NaN     7     CDMX   \n",
       "..                                                 ...   ...   ...      ...   \n",
       "120  16deSeptiembre1126,Mexicaltzingo,44180,Guadala...   NaN   160  Yucatán   \n",
       "121                               LaRiojas/n,Canc&#250   NaN   163  Yucatán   \n",
       "122                Tepich506,SinNombre,77533,Canc&#250   NaN   164  Yucatán   \n",
       "123              Av.Kabah226,SinNombre,77516,Canc&#250   NaN   165  Yucatán   \n",
       "124       FelipeCarrilloPuerto266,Merida,97208,Yucatan         168  Yucatán   \n",
       "\n",
       "           ciudad  \n",
       "0    Azcapotzalco  \n",
       "1    Azcapotzalco  \n",
       "2    Azcapotzalco  \n",
       "3    Azcapotzalco  \n",
       "4    Azcapotzalco  \n",
       "..            ...  \n",
       "120        Merida  \n",
       "121        Merida  \n",
       "122        Merida  \n",
       "123        Merida  \n",
       "124        Merida  \n",
       "\n",
       "[125 rows x 9 columns]"
      ]
     },
     "execution_count": 274,
     "metadata": {},
     "output_type": "execute_result"
    }
   ],
   "source": [
    "Tabla"
   ]
  },
  {
   "cell_type": "code",
   "execution_count": 275,
   "metadata": {},
   "outputs": [],
   "source": [
    "Tabla.to_csv('Esperanza.csv')"
   ]
  },
  {
   "cell_type": "code",
   "execution_count": 229,
   "metadata": {},
   "outputs": [
    {
     "data": {
      "text/plain": [
       "[2,\n",
       " 9,\n",
       " 12,\n",
       " 18,\n",
       " 24,\n",
       " 32,\n",
       " 36,\n",
       " 40,\n",
       " 57,\n",
       " 60,\n",
       " 65,\n",
       " 69,\n",
       " 76,\n",
       " 79,\n",
       " 84,\n",
       " 88,\n",
       " 92,\n",
       " 94,\n",
       " 96,\n",
       " 100,\n",
       " 107,\n",
       " 111,\n",
       " 118,\n",
       " 122,\n",
       " 126,\n",
       " 128,\n",
       " 132,\n",
       " 134,\n",
       " 137,\n",
       " 144,\n",
       " 151,\n",
       " 157,\n",
       " 162,\n",
       " 167]"
      ]
     },
     "execution_count": 229,
     "metadata": {},
     "output_type": "execute_result"
    }
   ],
   "source": [
    "n_City"
   ]
  },
  {
   "cell_type": "code",
   "execution_count": 261,
   "metadata": {},
   "outputs": [
    {
     "data": {
      "text/plain": [
       "numpy.int64"
      ]
     },
     "execution_count": 261,
     "metadata": {},
     "output_type": "execute_result"
    }
   ],
   "source": [
    "type(Tabla.iloc[100].nsel)"
   ]
  },
  {
   "cell_type": "code",
   "execution_count": 231,
   "metadata": {},
   "outputs": [
    {
     "data": {
      "text/plain": [
       "[2,\n",
       " 9,\n",
       " 12,\n",
       " 18,\n",
       " 24,\n",
       " 32,\n",
       " 36,\n",
       " 40,\n",
       " 57,\n",
       " 60,\n",
       " 65,\n",
       " 69,\n",
       " 76,\n",
       " 79,\n",
       " 84,\n",
       " 88,\n",
       " 92,\n",
       " 94,\n",
       " 96,\n",
       " 100,\n",
       " 107,\n",
       " 111,\n",
       " 118,\n",
       " 122,\n",
       " 126,\n",
       " 128,\n",
       " 132,\n",
       " 134,\n",
       " 137,\n",
       " 144,\n",
       " 151,\n",
       " 157,\n",
       " 162,\n",
       " 167]"
      ]
     },
     "execution_count": 231,
     "metadata": {},
     "output_type": "execute_result"
    }
   ],
   "source": [
    "n_City"
   ]
  },
  {
   "cell_type": "code",
   "execution_count": 237,
   "metadata": {},
   "outputs": [
    {
     "data": {
      "text/plain": [
       "array([ True,  True,  True,  True,  True,  True,  True,  True,  True,\n",
       "        True,  True,  True,  True,  True,  True,  True,  True,  True,\n",
       "        True,  True,  True,  True,  True,  True,  True,  True, False,\n",
       "       False, False, False, False, False, False, False])"
      ]
     },
     "execution_count": 237,
     "metadata": {},
     "output_type": "execute_result"
    }
   ],
   "source": [
    "np.where(n_City<Tabla.iloc[100].nsel)"
   ]
  },
  {
   "cell_type": "code",
   "execution_count": 259,
   "metadata": {},
   "outputs": [
    {
     "data": {
      "text/plain": [
       "130"
      ]
     },
     "execution_count": 259,
     "metadata": {},
     "output_type": "execute_result"
    }
   ],
   "source": [
    "Tabla.iloc[100].nsel"
   ]
  }
 ],
 "metadata": {
  "kernelspec": {
   "display_name": "Python 3.10.5 64-bit",
   "language": "python",
   "name": "python3"
  },
  "language_info": {
   "codemirror_mode": {
    "name": "ipython",
    "version": 3
   },
   "file_extension": ".py",
   "mimetype": "text/x-python",
   "name": "python",
   "nbconvert_exporter": "python",
   "pygments_lexer": "ipython3",
   "version": "3.10.5"
  },
  "orig_nbformat": 4,
  "vscode": {
   "interpreter": {
    "hash": "aee8b7b246df8f9039afb4144a1f6fd8d2ca17a180786b69acc140d282b71a49"
   }
  }
 },
 "nbformat": 4,
 "nbformat_minor": 2
}
