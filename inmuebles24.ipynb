{
 "cells": [
  {
   "cell_type": "code",
   "execution_count": 1,
   "metadata": {},
   "outputs": [],
   "source": [
    "#Implementacion librerias\n",
    "import pandas as pd \n",
    "import numpy as np\n",
    "from datetime import date, datetime, timedelta\n",
    "import lxml.html\n",
    "import json\n",
    "import time\n",
    "import requests \n",
    "from requests.packages.urllib3.exceptions import InsecureRequestWarning\n",
    "import json"
   ]
  },
  {
   "cell_type": "code",
   "execution_count": 2,
   "metadata": {},
   "outputs": [
    {
     "data": {
      "text/plain": [
       "<Response [403]>"
      ]
     },
     "execution_count": 2,
     "metadata": {},
     "output_type": "execute_result"
    }
   ],
   "source": [
    "requests.packages.urllib3.disable_warnings(InsecureRequestWarning)\n",
    "spots=[]\n",
    "\n",
    "#get max number of page\n",
    "url='https://www.inmuebles24.com/oficinas-en-renta-en-cuauhtemoc-ciudad-de-cuauhtemoc.html'\n",
    "headers={\n",
    "'authority': 'www.inmuebles24.com',\n",
    "'method': 'GET',\n",
    "'path': '/oficinas-en-renta-en-cuauhtemoc-ciudad-de-cuauhtemoc.html',\n",
    "'scheme': 'https',\n",
    "'accept': 'text/html,application/xhtml+xml,application/xml;q=0.9,image/webp,image/apng,*/*;q=0.8,application/signed-exchange;v=b3;q=0.9',\n",
    "'accept-encoding': 'gzip, deflate, br',\n",
    "'accept-language': 'es-419,es;q=0.9,es-ES;q=0.8,en;q=0.7,en-GB;q=0.6,en-US;q=0.5',\n",
    "'cache-control': 'max-age=0',\n",
    "'sec-ch-ua': '\"Microsoft Edge\";v=\"105\", \" Not;A Brand\";v=\"99\", \"Chromium\";v=\"105\"',\n",
    "'sec-ch-ua-mobile': '?0',\n",
    "'sec-ch-ua-platform': '\"macOS\"',\n",
    "'sec-fetch-dest': 'document',\n",
    "'sec-fetch-mode': 'navigate',\n",
    "'sec-fetch-site': 'none',\n",
    "'sec-fetch-user': '?1',\n",
    "'upgrade-insecure-requests': '1',\n",
    "'user-agent': 'Mozilla/5.0 (Macintosh; Intel Mac OS X 10_15_7) AppleWebKit/537.36 (KHTML, like Gecko) Chrome/105.0.0.0 Safari/537.36 Edg/105.0.1343.42'\n",
    "}\n",
    "\n",
    "\n",
    "session=requests.Session()\n",
    "session.verify=False \n",
    "r = session.get( url.replace(' ',''), headers=headers )\n",
    "session.close()\n",
    "r"
   ]
  }
 ],
 "metadata": {
  "kernelspec": {
   "display_name": "Python 3.10.5 64-bit",
   "language": "python",
   "name": "python3"
  },
  "language_info": {
   "codemirror_mode": {
    "name": "ipython",
    "version": 3
   },
   "file_extension": ".py",
   "mimetype": "text/x-python",
   "name": "python",
   "nbconvert_exporter": "python",
   "pygments_lexer": "ipython3",
   "version": "3.10.5"
  },
  "orig_nbformat": 4,
  "vscode": {
   "interpreter": {
    "hash": "aee8b7b246df8f9039afb4144a1f6fd8d2ca17a180786b69acc140d282b71a49"
   }
  }
 },
 "nbformat": 4,
 "nbformat_minor": 2
}
